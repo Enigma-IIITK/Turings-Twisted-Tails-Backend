{
 "cells": [
  {
   "cell_type": "code",
   "execution_count": 33,
   "metadata": {},
   "outputs": [],
   "source": [
    "import os\n",
    "from dotenv import load_dotenv\n",
    "import time\n",
    "import numpy as np"
   ]
  },
  {
   "cell_type": "code",
   "execution_count": 34,
   "metadata": {},
   "outputs": [],
   "source": [
    "load_dotenv()\n",
    "no_of_keys = 10\n",
    "keys = []\n",
    "\n",
    "for x in range(1,no_of_keys+1):\n",
    "    keys.append(os.getenv(f'GOOGLE_API_KEY_{x}'))"
   ]
  },
  {
   "cell_type": "code",
   "execution_count": 35,
   "metadata": {},
   "outputs": [
    {
     "data": {
      "text/plain": [
       "['a', 'b', 'c', 'd', 'e', 'f', 'g', 'h', 'i', 'j']"
      ]
     },
     "execution_count": 35,
     "metadata": {},
     "output_type": "execute_result"
    }
   ],
   "source": [
    "keys"
   ]
  },
  {
   "cell_type": "code",
   "execution_count": 36,
   "metadata": {},
   "outputs": [],
   "source": [
    "class LoadBalancer:\n",
    "    def __init__(self,n):\n",
    "        self.index = -2\n",
    "        self.no_of_keys = n\n",
    "        load_dotenv()\n",
    "        keys = []\n",
    "        for x in range(1,self.no_of_keys+1):\n",
    "            keys.append(os.getenv(f'GOOGLE_API_KEY_{x}'))\n",
    "        self.keys = keys\n",
    "\n",
    "    def Round_Robin(self):\n",
    "        self.index += 1\n",
    "        return self.keys[(self.index+1)%self.no_of_keys]"
   ]
  },
  {
   "cell_type": "code",
   "execution_count": 37,
   "metadata": {},
   "outputs": [],
   "source": [
    "l = LoadBalancer(10)"
   ]
  },
  {
   "cell_type": "code",
   "execution_count": 38,
   "metadata": {},
   "outputs": [
    {
     "data": {
      "text/plain": [
       "'a'"
      ]
     },
     "execution_count": 38,
     "metadata": {},
     "output_type": "execute_result"
    }
   ],
   "source": [
    "l.Round_Robin()"
   ]
  },
  {
   "cell_type": "code",
   "execution_count": 39,
   "metadata": {},
   "outputs": [
    {
     "data": {
      "text/plain": [
       "{'a': 0,\n",
       " 'b': 1,\n",
       " 'c': 2,\n",
       " 'd': 3,\n",
       " 'e': 4,\n",
       " 'f': 5,\n",
       " 'g': 6,\n",
       " 'h': 7,\n",
       " 'i': 8,\n",
       " 'j': 9}"
      ]
     },
     "execution_count": 39,
     "metadata": {},
     "output_type": "execute_result"
    }
   ],
   "source": [
    "d = {k:x for x,k in enumerate(keys)}\n",
    "d"
   ]
  },
  {
   "cell_type": "code",
   "execution_count": 48,
   "metadata": {},
   "outputs": [],
   "source": [
    "class LoadBalancer:\n",
    "    def __init__(self,n,ct):\n",
    "        self.index = -1\n",
    "        self.no_of_keys = n\n",
    "        load_dotenv()\n",
    "        self.keys = [os.getenv(f'GOOGLE_API_KEY_{x}') for x in range(1,n+1)]\n",
    "        self.fail_keys = {}\n",
    "        self.cooltime = ct\n",
    "        self.usage_count = {key: 0 for key in self.keys}\n",
    "    \n",
    "    def StdDev(self):\n",
    "            avail_keys = self.keys\n",
    "            \n",
    "            use_counts = np.array([self.usage_count[key] for key in avail_keys])\n",
    "            mean_use = np.mean(use_counts)\n",
    "            std_dev = np.std(use_counts) + 1e-6\n",
    "\n",
    "            prob = 1 / (1 + np.abs(use_counts - mean_use) / std_dev)\n",
    "            prob /= prob.sum()\n",
    "\n",
    "            sel_key = np.random.choice(avail_keys,p=prob)\n",
    "            self.usage_count[sel_key] += 1\n",
    "\n",
    "            return sel_key\n",
    "\n",
    "    def FailureAware(self):\n",
    "        for _ in range(self.no_of_keys):\n",
    "            self.index = (self.index+1) % self.no_of_keys\n",
    "            key = self.keys[self.index]\n",
    "\n",
    "            if key in self.fail_keys:\n",
    "                if time.time() < self.fail_keys[key]:\n",
    "                    continue\n",
    "                else:\n",
    "                    del self.fail_keys[key]\n",
    "            return key\n",
    "        \n",
    "        raise Exception(\"No keys available... All keys in cooldown...\")\n",
    "    \n",
    "    def report_fail(self,key):\n",
    "        self.fail_keys[key] = time.time() + self.cooltime\n",
    "    \n",
    "    def make_api_call(self, simulate_failure_rate=0.3):\n",
    "        \"\"\"\n",
    "        Simulates an API call using the load balancer.\n",
    "        :param simulate_failure_rate: Probability (0-1) of a key failing.\n",
    "        \"\"\"\n",
    "        import random\n",
    "\n",
    "        key = self.FailureAware()\n",
    "        print(f\"Using API key: {d[key]}\")\n",
    "\n",
    "        if random.random() < simulate_failure_rate:\n",
    "            print(f\"API key {d[key]} failed! Putting it in cooldown.\")\n",
    "            self.report_fail(key)\n",
    "            return False \n",
    "        else:\n",
    "            print(f\"API call successful with key {d[key]}\")\n",
    "            return True  "
   ]
  },
  {
   "cell_type": "code",
   "execution_count": 58,
   "metadata": {},
   "outputs": [
    {
     "name": "stdout",
     "output_type": "stream",
     "text": [
      "f\n",
      "i\n",
      "j\n",
      "h\n",
      "b\n",
      "b\n",
      "e\n",
      "i\n",
      "h\n",
      "i\n"
     ]
    }
   ],
   "source": [
    "lb = LoadBalancer(10,60)\n",
    "for x in range(10):\n",
    "    print(lb.StdDev())"
   ]
  },
  {
   "cell_type": "code",
   "execution_count": null,
   "metadata": {},
   "outputs": [],
   "source": []
  }
 ],
 "metadata": {
  "kernelspec": {
   "display_name": "AI",
   "language": "python",
   "name": "python3"
  },
  "language_info": {
   "codemirror_mode": {
    "name": "ipython",
    "version": 3
   },
   "file_extension": ".py",
   "mimetype": "text/x-python",
   "name": "python",
   "nbconvert_exporter": "python",
   "pygments_lexer": "ipython3",
   "version": "3.10.16"
  }
 },
 "nbformat": 4,
 "nbformat_minor": 2
}
